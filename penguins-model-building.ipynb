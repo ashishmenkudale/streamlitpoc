{
 "cells": [
  {
   "cell_type": "code",
   "execution_count": 1,
   "id": "3f2a27bd",
   "metadata": {
    "ExecuteTime": {
     "end_time": "2021-06-05T05:34:15.294445Z",
     "start_time": "2021-06-05T05:34:13.513438Z"
    }
   },
   "outputs": [],
   "source": [
    "import pandas as pd\n",
    "penguins = pd.read_csv('./data/penguins_cleaned.csv')\n",
    "\n",
    "# Ordinal feature encoding\n",
    "# https://www.kaggle.com/pratik1120/penguin-dataset-eda-classification-and-clustering\n",
    "df = penguins.copy()\n",
    "target = 'species'\n",
    "encode = ['sex','island']\n",
    "\n",
    "for col in encode:\n",
    "    dummy = pd.get_dummies(df[col], prefix=col)\n",
    "    df = pd.concat([df,dummy], axis=1)\n",
    "    del df[col]\n",
    "\n",
    "target_mapper = {'Adelie':0, 'Chinstrap':1, 'Gentoo':2}\n",
    "def target_encode(val):\n",
    "    return target_mapper[val]\n",
    "\n",
    "df['species'] = df['species'].apply(target_encode)\n",
    "\n",
    "# Separating X and y\n",
    "X = df.drop('species', axis=1)\n",
    "Y = df['species']\n",
    "\n",
    "# Build random forest model\n",
    "from sklearn.ensemble import RandomForestClassifier\n",
    "clf = RandomForestClassifier()\n",
    "clf.fit(X, Y)\n",
    "\n",
    "# Saving the model\n",
    "import pickle\n",
    "pickle.dump(clf, open('./penguins_clf.pkl', 'wb'))"
   ]
  }
 ],
 "metadata": {
  "kernelspec": {
   "display_name": "streamlitpoc",
   "language": "python",
   "name": "streamlitpoc"
  },
  "language_info": {
   "codemirror_mode": {
    "name": "ipython",
    "version": 3
   },
   "file_extension": ".py",
   "mimetype": "text/x-python",
   "name": "python",
   "nbconvert_exporter": "python",
   "pygments_lexer": "ipython3",
   "version": "3.8.8"
  }
 },
 "nbformat": 4,
 "nbformat_minor": 5
}
